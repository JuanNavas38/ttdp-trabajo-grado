{
 "cells": [
  {
   "cell_type": "markdown",
   "metadata": {},
   "source": [
    "# Embedding estructural (Node2Vec) — j11a\n",
    "Genera embeddings de nodos para la instancia sintética más simple (`hptoptw-j11a`) y valida con un planificador por similitud coseno."
   ]
  },
  {
   "cell_type": "code",
   "execution_count": null,
   "metadata": {
    "tags": [
     "parameters"
    ]
   },
   "outputs": [],
   "source": [
    "from pathlib import Path\n",
    "import sys, numpy as np\n",
    "\n",
    "# Parámetros Node2Vec\n",
    "dims = 64\n",
    "walk_length = 20\n",
    "num_walks = 10\n",
    "p = 1.0\n",
    "q = 1.0\n",
    "seed = 42\n",
    "\n",
    "# Detectar raíz del repo (buscando baseline_greedy.py)\n",
    "repo_root = Path.cwd()\n",
    "for base in [repo_root, repo_root.parent, repo_root.parent.parent, repo_root.parent.parent.parent]:\n",
    "    if (base / 'baseline_greedy.py').exists():\n",
    "        repo_root = base\n",
    "        break\n",
    "graphs_dir = repo_root / 'experiments' / 'graphs'\n",
    "emb_dir = repo_root / 'experiments' / 'embeddings'\n",
    "data_syn = repo_root / 'data' / 'synthetic'\n",
    "emb_dir.mkdir(parents=True, exist_ok=True)\n",
    "\n",
    "# Localizar GraphML de j11a\n",
    "g_candidates = sorted(graphs_dir.glob('hptoptw-j11a*_undir.graphml')) or sorted(graphs_dir.glob('hptoptw-j11a*.graphml'))\n",
    "graph_path = g_candidates[0] if g_candidates else None\n",
    "print('repo_root:', repo_root.as_posix())\n",
    "print('graphs_dir:', graphs_dir.as_posix(), 'exists?', graphs_dir.exists())\n",
    "print('graph_path:', graph_path.as_posix() if graph_path else None)\n",
    "print('emb_dir:', emb_dir.as_posix())\n"
   ]
  },
  {
   "cell_type": "markdown",
   "metadata": {},
   "source": [
    "## Generar embeddings Node2Vec"
   ]
  },
  {
   "cell_type": "code",
   "execution_count": null,
   "metadata": {},
   "outputs": [],
   "source": [
    "# Instalar si falta\n",
    "try:\n",
    "    from node2vec import Node2Vec\n",
    "    HAVE_N2V = True\n",
    "except Exception:\n",
    "    HAVE_N2V = False\n",
    "\n",
    "import networkx as nx, pandas as pd\n",
    "if not HAVE_N2V:\n",
    "    print('Instalando node2vec ...')\n",
    "    !{sys.executable} -m pip install -q node2vec\n",
    "    from node2vec import Node2Vec\n",
    "\n",
    "assert graph_path is not None, 'No se encontró GraphML de j11a en experiments/graphs. Ejecuta 02_build_graphs primero.'\n",
    "G = nx.read_graphml(graph_path)\n",
    "\n",
    "# Generar Node2Vec\n",
    "n2v = Node2Vec(G, dimensions=dims, walk_length=walk_length, num_walks=num_walks,\n",
    "               p=p, q=q, weight_key='weight', workers=1, seed=seed)\n",
    "model = n2v.fit(window=10, min_count=1, batch_words=64)\n",
    "\n",
    "# Exportar embeddings\n",
    "rows = []\n",
    "for node in G.nodes():\n",
    "    key = str(node)\n",
    "    vec = model.wv[key] if key in model.wv else model.wv.get_vector(key)\n",
    "    rows.append({'id': int(node), **{f'f{k}': float(vec[k]) for k in range(dims)}})\n",
    "df_emb = pd.DataFrame(rows).sort_values('id')\n",
    "out_emb = emb_dir / f\"{graph_path.stem}_node2vec_d{dims}_p{p}_q{q}_wl{walk_length}_nw{num_walks}.csv\"\n",
    "df_emb.to_csv(out_emb, index=False)\n",
    "print('Saved ->', out_emb.as_posix(), 'shape=', df_emb.shape)\n"
   ]
  },
  {
   "cell_type": "markdown",
   "metadata": {},
   "source": [
    "## Validación con planificador por similitud coseno"
   ]
  },
  {
   "cell_type": "code",
   "execution_count": null,
   "metadata": {},
   "outputs": [],
   "source": [
    "from numpy.linalg import norm\n",
    "sys.path.append(str(repo_root))\n",
    "from baseline_greedy import load_instance, evaluate_route\n",
    "\n",
    "def cosine(a,b):\n",
    "    na, nb = norm(a)+1e-9, norm(b)+1e-9\n",
    "    return float(np.dot(a,b) / (na*nb))\n",
    "\n",
    "def load_embeddings(path: Path):\n",
    "    df = pd.read_csv(path)\n",
    "    ids = df['id'].astype(int).to_list()\n",
    "    vecs = df[[c for c in df.columns if c.startswith('f')]].to_numpy(dtype=float)\n",
    "    return {int(i): vecs[k] for k,i in enumerate(ids)}\n",
    "\n",
    "def plan_structural(inst, emb_map, start_idx=0):\n",
    "    nodes, dist = inst['nodes'], inst['dist']\n",
    "    N = len(nodes)\n",
    "    if not emb_map:\n",
    "        return False, 0.0, 0.0, [start_idx, start_idx]\n",
    "    proto = next(iter(emb_map.values()))\n",
    "    unvisited = [i for i in range(N) if i!=start_idx and int(nodes.loc[i,'is_depot'])==0 and i in emb_map]\n",
    "    route = [start_idx]\n",
    "    while unvisited:\n",
    "        cur = route[-1]\n",
    "        best = None; best_sim = -1\n",
    "        for v in unvisited:\n",
    "            trial = route + [v] + [start_idx]\n",
    "            feas, prof, T, _ = evaluate_route(trial, nodes, dist)\n",
    "            if not feas: continue\n",
    "            s = cosine(emb_map.get(cur, np.zeros_like(proto)), emb_map[v])\n",
    "            if s > best_sim:\n",
    "                best_sim, best = s, v\n",
    "        if best is None: break\n",
    "        route.append(best)\n",
    "        unvisited.remove(best)\n",
    "    if route[-1] != start_idx: route.append(start_idx)\n",
    "    feas, prof, T, arr = evaluate_route(route, nodes, dist)\n",
    "    return feas, prof, T, route\n",
    "\n",
    "# Instancia j11a\n",
    "csv_inst = data_syn / 'hptoptw-j11a.csv'\n",
    "inst = load_instance(str(csv_inst), 'hptoptw-j11a')\n",
    "emb_map = load_embeddings(out_emb)\n",
    "feas, prof, T, route = plan_structural(inst, emb_map)\n",
    "print({'feasible': bool(feas), 'profit': float(prof), 'time': float(T), 'stops': max(0,len(route)-2), 'route': route})\n"
   ]
  }
 ],
 "metadata": {
  "kernelspec": {
   "display_name": "Python 3",
   "language": "python",
   "name": "python3"
  },
  "language_info": {
   "name": "python",
   "version": "3"
  }
 },
 "nbformat": 4,
 "nbformat_minor": 5
}
