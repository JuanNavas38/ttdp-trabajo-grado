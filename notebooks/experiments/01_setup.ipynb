{
  "cells": [
    {
      "cell_type": "markdown",
      "metadata": {},
      "source": [
        "# Setup del proyecto \n",
        "Define parámetros globales, verifica el entorno y crea carpetas de salida para gráficos, embeddings y resultados."
      ]
    },
    {
      "cell_type": "code",
      "execution_count": 1,
      "metadata": {
        "tags": [
          "parameters"
        ]
      },
      "outputs": [
        {
          "name": "stdout",
          "output_type": "stream",
          "text": [
            "Repo root : c:/Users/juann/OneDrive - Pontificia Universidad Javeriana/Trabajo de Grado/ttdp-trabajo-grado/notebooks/experiments\n",
            "Python    : 3.12.7 | Windows-11-10.0.22631-SP0\n",
            "Dirs      : c:/Users/juann/OneDrive - Pontificia Universidad Javeriana/Trabajo de Grado/ttdp-trabajo-grado/notebooks/experiments/experiments/graphs c:/Users/juann/OneDrive - Pontificia Universidad Javeriana/Trabajo de Grado/ttdp-trabajo-grado/notebooks/experiments/experiments/embeddings c:/Users/juann/OneDrive - Pontificia Universidad Javeriana/Trabajo de Grado/ttdp-trabajo-grado/notebooks/experiments/experiments/results/week7\n"
          ]
        },
        {
          "data": {
            "text/plain": [
              "(['hptoptw-j11a.csv',\n",
              "  'hptoptw-j11b.csv',\n",
              "  'hptoptw-j16a.csv',\n",
              "  'hptoptw-j21a.csv'],\n",
              " 10,\n",
              " 0.05,\n",
              " [0])"
            ]
          },
          "execution_count": 1,
          "metadata": {},
          "output_type": "execute_result"
        }
      ],
      "source": [
        "from pathlib import Path\n",
        "import sys, platform\n",
        "\n",
        "# Parámetros globales\n",
        "instances = ['hptoptw-j11a.csv','hptoptw-j11b.csv','hptoptw-j16a.csv','hptoptw-j21a.csv']\n",
        "knn = 10\n",
        "alpha = 0.05\n",
        "seeds = [0]  # puedes ampliar\n",
        "\n",
        "repo_root = Path.cwd()\n",
        "if (repo_root / 'notebooks').exists() and (repo_root.name=='experiments'):\n",
        "    # si se abre desde otra carpeta, ajusta según sea necesario\n",
        "    repo_root = repo_root.parents[2]\n",
        "\n",
        "graphs_dir = repo_root / 'experiments' / 'graphs'\n",
        "emb_dir = repo_root / 'experiments' / 'embeddings'\n",
        "res_dir = repo_root / 'experiments' / 'results' / 'week7'\n",
        "for d in (graphs_dir, emb_dir, res_dir): d.mkdir(parents=True, exist_ok=True)\n",
        "\n",
        "print('Repo root :', repo_root.as_posix())\n",
        "print('Python    :', sys.version.split()[0], '|', platform.platform())\n",
        "print('Dirs      :', graphs_dir.as_posix(), emb_dir.as_posix(), res_dir.as_posix())\n",
        "instances, knn, alpha, seeds\n"
      ]
    },
    {
      "cell_type": "code",
      "execution_count": null,
      "id": "8359dc77",
      "metadata": {},
      "outputs": [
        {
          "ename": "AssertionError",
          "evalue": "No existe c:\\Users\\juann\\OneDrive - Pontificia Universidad Javeriana\\Trabajo de Grado\\data\\synthetic\\hptoptw-j11a.csv",
          "output_type": "error",
          "traceback": [
            "\u001b[1;31m---------------------------------------------------------------------------\u001b[0m\n",
            "\n",
            "\u001b[1;31mAssertionError\u001b[0m                            Traceback (most recent call last)\n",
            "\n",
            "Cell \u001b[1;32mIn[2], line 4\u001b[0m\n",
            "\n",
            "\u001b[0;32m      2\u001b[0m \u001b[38;5;28;01mfor\u001b[39;00m fname \u001b[38;5;129;01min\u001b[39;00m instances:\n",
            "\n",
            "\u001b[0;32m      3\u001b[0m     csv_path \u001b[38;5;241m=\u001b[39m data_syn \u001b[38;5;241m/\u001b[39m fname\n",
            "\n",
            "\u001b[1;32m----> 4\u001b[0m     \u001b[38;5;28;01massert\u001b[39;00m csv_path\u001b[38;5;241m.\u001b[39mexists(), \u001b[38;5;124mf\u001b[39m\u001b[38;5;124m'\u001b[39m\u001b[38;5;124mNo existe \u001b[39m\u001b[38;5;132;01m{\u001b[39;00mcsv_path\u001b[38;5;132;01m}\u001b[39;00m\u001b[38;5;124m'\u001b[39m\n",
            "\n",
            "\u001b[0;32m      5\u001b[0m     cmd \u001b[38;5;241m=\u001b[39m [sys\u001b[38;5;241m.\u001b[39mexecutable, \u001b[38;5;28mstr\u001b[39m(builder), \u001b[38;5;124m'\u001b[39m\u001b[38;5;124m--file\u001b[39m\u001b[38;5;124m'\u001b[39m, \u001b[38;5;28mstr\u001b[39m(csv_path), \u001b[38;5;124m'\u001b[39m\u001b[38;5;124m--knn\u001b[39m\u001b[38;5;124m'\u001b[39m, \u001b[38;5;28mstr\u001b[39m(knn), \u001b[38;5;124m'\u001b[39m\u001b[38;5;124m--alpha\u001b[39m\u001b[38;5;124m'\u001b[39m, \u001b[38;5;28mstr\u001b[39m(alpha)]\n",
            "\n",
            "\u001b[0;32m      6\u001b[0m     \u001b[38;5;28mprint\u001b[39m(\u001b[38;5;124m'\u001b[39m\u001b[38;5;124m>>\u001b[39m\u001b[38;5;124m'\u001b[39m, \u001b[38;5;124m'\u001b[39m\u001b[38;5;124m \u001b[39m\u001b[38;5;124m'\u001b[39m\u001b[38;5;241m.\u001b[39mjoin(cmd))\n",
            "\n",
            "\n",
            "\n",
            "\u001b[1;31mAssertionError\u001b[0m: No existe c:\\Users\\juann\\OneDrive - Pontificia Universidad Javeriana\\Trabajo de Grado\\data\\synthetic\\hptoptw-j11a.csv"
          ]
        }
      ],
      "source": []
    },
    {
      "cell_type": "code",
      "execution_count": null,
      "id": "ea20644c",
      "metadata": {},
      "outputs": [
        {
          "ename": "AssertionError",
          "evalue": "No existe c:\\Users\\juann\\OneDrive - Pontificia Universidad Javeriana\\Trabajo de Grado\\data\\synthetic\\hptoptw-j11a.csv",
          "output_type": "error",
          "traceback": [
            "\u001b[1;31m---------------------------------------------------------------------------\u001b[0m\n",
            "\n",
            "\u001b[1;31mAssertionError\u001b[0m                            Traceback (most recent call last)\n",
            "\n",
            "Cell \u001b[1;32mIn[2], line 4\u001b[0m\n",
            "\n",
            "\u001b[0;32m      2\u001b[0m \u001b[38;5;28;01mfor\u001b[39;00m fname \u001b[38;5;129;01min\u001b[39;00m instances:\n",
            "\n",
            "\u001b[0;32m      3\u001b[0m     csv_path \u001b[38;5;241m=\u001b[39m data_syn \u001b[38;5;241m/\u001b[39m fname\n",
            "\n",
            "\u001b[1;32m----> 4\u001b[0m     \u001b[38;5;28;01massert\u001b[39;00m csv_path\u001b[38;5;241m.\u001b[39mexists(), \u001b[38;5;124mf\u001b[39m\u001b[38;5;124m'\u001b[39m\u001b[38;5;124mNo existe \u001b[39m\u001b[38;5;132;01m{\u001b[39;00mcsv_path\u001b[38;5;132;01m}\u001b[39;00m\u001b[38;5;124m'\u001b[39m\n",
            "\n",
            "\u001b[0;32m      5\u001b[0m     cmd \u001b[38;5;241m=\u001b[39m [sys\u001b[38;5;241m.\u001b[39mexecutable, \u001b[38;5;28mstr\u001b[39m(builder), \u001b[38;5;124m'\u001b[39m\u001b[38;5;124m--file\u001b[39m\u001b[38;5;124m'\u001b[39m, \u001b[38;5;28mstr\u001b[39m(csv_path), \u001b[38;5;124m'\u001b[39m\u001b[38;5;124m--knn\u001b[39m\u001b[38;5;124m'\u001b[39m, \u001b[38;5;28mstr\u001b[39m(knn), \u001b[38;5;124m'\u001b[39m\u001b[38;5;124m--alpha\u001b[39m\u001b[38;5;124m'\u001b[39m, \u001b[38;5;28mstr\u001b[39m(alpha)]\n",
            "\n",
            "\u001b[0;32m      6\u001b[0m     \u001b[38;5;28mprint\u001b[39m(\u001b[38;5;124m'\u001b[39m\u001b[38;5;124m>>\u001b[39m\u001b[38;5;124m'\u001b[39m, \u001b[38;5;124m'\u001b[39m\u001b[38;5;124m \u001b[39m\u001b[38;5;124m'\u001b[39m\u001b[38;5;241m.\u001b[39mjoin(cmd))\n",
            "\n",
            "\n",
            "\n",
            "\u001b[1;31mAssertionError\u001b[0m: No existe c:\\Users\\juann\\OneDrive - Pontificia Universidad Javeriana\\Trabajo de Grado\\data\\synthetic\\hptoptw-j11a.csv"
          ]
        }
      ],
      "source": []
    },
    {
      "cell_type": "code",
      "execution_count": null,
      "id": "7c8c9509",
      "metadata": {},
      "outputs": [
        {
          "ename": "AssertionError",
          "evalue": "No existe c:\\Users\\juann\\OneDrive - Pontificia Universidad Javeriana\\Trabajo de Grado\\data\\synthetic\\hptoptw-j11a.csv",
          "output_type": "error",
          "traceback": [
            "\u001b[1;31m---------------------------------------------------------------------------\u001b[0m\n",
            "\n",
            "\u001b[1;31mAssertionError\u001b[0m                            Traceback (most recent call last)\n",
            "\n",
            "Cell \u001b[1;32mIn[2], line 4\u001b[0m\n",
            "\n",
            "\u001b[0;32m      2\u001b[0m \u001b[38;5;28;01mfor\u001b[39;00m fname \u001b[38;5;129;01min\u001b[39;00m instances:\n",
            "\n",
            "\u001b[0;32m      3\u001b[0m     csv_path \u001b[38;5;241m=\u001b[39m data_syn \u001b[38;5;241m/\u001b[39m fname\n",
            "\n",
            "\u001b[1;32m----> 4\u001b[0m     \u001b[38;5;28;01massert\u001b[39;00m csv_path\u001b[38;5;241m.\u001b[39mexists(), \u001b[38;5;124mf\u001b[39m\u001b[38;5;124m'\u001b[39m\u001b[38;5;124mNo existe \u001b[39m\u001b[38;5;132;01m{\u001b[39;00mcsv_path\u001b[38;5;132;01m}\u001b[39;00m\u001b[38;5;124m'\u001b[39m\n",
            "\n",
            "\u001b[0;32m      5\u001b[0m     cmd \u001b[38;5;241m=\u001b[39m [sys\u001b[38;5;241m.\u001b[39mexecutable, \u001b[38;5;28mstr\u001b[39m(builder), \u001b[38;5;124m'\u001b[39m\u001b[38;5;124m--file\u001b[39m\u001b[38;5;124m'\u001b[39m, \u001b[38;5;28mstr\u001b[39m(csv_path), \u001b[38;5;124m'\u001b[39m\u001b[38;5;124m--knn\u001b[39m\u001b[38;5;124m'\u001b[39m, \u001b[38;5;28mstr\u001b[39m(knn), \u001b[38;5;124m'\u001b[39m\u001b[38;5;124m--alpha\u001b[39m\u001b[38;5;124m'\u001b[39m, \u001b[38;5;28mstr\u001b[39m(alpha)]\n",
            "\n",
            "\u001b[0;32m      6\u001b[0m     \u001b[38;5;28mprint\u001b[39m(\u001b[38;5;124m'\u001b[39m\u001b[38;5;124m>>\u001b[39m\u001b[38;5;124m'\u001b[39m, \u001b[38;5;124m'\u001b[39m\u001b[38;5;124m \u001b[39m\u001b[38;5;124m'\u001b[39m\u001b[38;5;241m.\u001b[39mjoin(cmd))\n",
            "\n",
            "\n",
            "\n",
            "\u001b[1;31mAssertionError\u001b[0m: No existe c:\\Users\\juann\\OneDrive - Pontificia Universidad Javeriana\\Trabajo de Grado\\data\\synthetic\\hptoptw-j11a.csv"
          ]
        }
      ],
      "source": []
    }
  ],
  "metadata": {
    "kernelspec": {
      "display_name": "base",
      "language": "python",
      "name": "python3"
    },
    "language_info": {
      "codemirror_mode": {
        "name": "ipython",
        "version": 3
      },
      "file_extension": ".py",
      "mimetype": "text/x-python",
      "name": "python",
      "nbconvert_exporter": "python",
      "pygments_lexer": "ipython3",
      "version": "3.12.7"
    }
  },
  "nbformat": 4,
  "nbformat_minor": 5
}
