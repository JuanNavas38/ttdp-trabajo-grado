{
  "cells": [
    {
      "cell_type": "markdown",
      "id": "9c24011c",
      "metadata": {},
      "source": [
        "# Construcción de grafos\n",
        "Genera grafos POI–POI para instancias sintéticas usando `src/graph/graph_builder.py`.\n",
        "Los artefactos se guardan en `experiments/graphs/`. "
      ]
    },
    {
      "cell_type": "code",
      "execution_count": 3,
      "id": "e823e7f9",
      "metadata": {
        "tags": [
          "parameters"
        ]
      },
      "outputs": [
        {
          "name": "stdout",
          "output_type": "stream",
          "text": [
            "Builder  : c:/Users/juann/OneDrive - Pontificia Universidad Javeriana/Trabajo de Grado/src/graph/graph_builder.py\n",
            "Data dir : c:/Users/juann/OneDrive - Pontificia Universidad Javeriana/Trabajo de Grado/data/synthetic\n",
            "Output   : c:/Users/juann/OneDrive - Pontificia Universidad Javeriana/Trabajo de Grado/experiments/graphs\n"
          ]
        }
      ],
      "source": [
        "from pathlib import Path\n",
        "import sys, subprocess\n",
        "\n",
        "# Parámetros (edítalos si quieres)\n",
        "instances = ['hptoptw-j11a.csv','hptoptw-j11b.csv','hptoptw-j16a.csv','hptoptw-j21a.csv']\n",
        "knn = 10\n",
        "alpha = 0.05\n",
        "\n",
        "# Detectar raíz del repo de forma robusta (buscando baseline_greedy.py)\n",
        "repo_root = Path.cwd()\n",
        "for base in [repo_root, repo_root.parent, repo_root.parent.parent, repo_root.parent.parent.parent]:\n",
        "    if (base / 'baseline_greedy.py').exists():\n",
        "        repo_root = base\n",
        "        break\n",
        "builder = repo_root / 'src' / 'graph' / 'graph_builder.py'\n",
        "data_syn = repo_root / 'data' / 'synthetic'\n",
        "graphs_out = repo_root / 'experiments' / 'graphs'\n",
        "graphs_out.mkdir(parents=True, exist_ok=True)\n",
        "print('Builder  :', builder.as_posix())\n",
        "print('Data dir :', data_syn.as_posix())\n",
        "print('Output   :', graphs_out.as_posix())\n"
      ]
    },
    {
      "cell_type": "code",
      "execution_count": 4,
      "id": "29be0102",
      "metadata": {},
      "outputs": [
        {
          "ename": "AssertionError",
          "evalue": "No existe c:\\Users\\juann\\OneDrive - Pontificia Universidad Javeriana\\Trabajo de Grado\\data\\synthetic\\hptoptw-j11a.csv",
          "output_type": "error",
          "traceback": [
            "\u001b[1;31m---------------------------------------------------------------------------\u001b[0m",
            "\u001b[1;31mAssertionError\u001b[0m                            Traceback (most recent call last)",
            "Cell \u001b[1;32mIn[4], line 4\u001b[0m\n\u001b[0;32m      2\u001b[0m \u001b[38;5;28;01mfor\u001b[39;00m fname \u001b[38;5;129;01min\u001b[39;00m instances:\n\u001b[0;32m      3\u001b[0m     csv_path \u001b[38;5;241m=\u001b[39m data_syn \u001b[38;5;241m/\u001b[39m fname\n\u001b[1;32m----> 4\u001b[0m     \u001b[38;5;28;01massert\u001b[39;00m csv_path\u001b[38;5;241m.\u001b[39mexists(), \u001b[38;5;124mf\u001b[39m\u001b[38;5;124m'\u001b[39m\u001b[38;5;124mNo existe \u001b[39m\u001b[38;5;132;01m{\u001b[39;00mcsv_path\u001b[38;5;132;01m}\u001b[39;00m\u001b[38;5;124m'\u001b[39m\n\u001b[0;32m      5\u001b[0m     cmd \u001b[38;5;241m=\u001b[39m [sys\u001b[38;5;241m.\u001b[39mexecutable, \u001b[38;5;28mstr\u001b[39m(builder), \u001b[38;5;124m'\u001b[39m\u001b[38;5;124m--file\u001b[39m\u001b[38;5;124m'\u001b[39m, \u001b[38;5;28mstr\u001b[39m(csv_path), \u001b[38;5;124m'\u001b[39m\u001b[38;5;124m--knn\u001b[39m\u001b[38;5;124m'\u001b[39m, \u001b[38;5;28mstr\u001b[39m(knn), \u001b[38;5;124m'\u001b[39m\u001b[38;5;124m--alpha\u001b[39m\u001b[38;5;124m'\u001b[39m, \u001b[38;5;28mstr\u001b[39m(alpha)]\n\u001b[0;32m      6\u001b[0m     \u001b[38;5;28mprint\u001b[39m(\u001b[38;5;124m'\u001b[39m\u001b[38;5;124m>>\u001b[39m\u001b[38;5;124m'\u001b[39m, \u001b[38;5;124m'\u001b[39m\u001b[38;5;124m \u001b[39m\u001b[38;5;124m'\u001b[39m\u001b[38;5;241m.\u001b[39mjoin(cmd))\n",
            "\u001b[1;31mAssertionError\u001b[0m: No existe c:\\Users\\juann\\OneDrive - Pontificia Universidad Javeriana\\Trabajo de Grado\\data\\synthetic\\hptoptw-j11a.csv"
          ]
        }
      ],
      "source": [
        "# Ejecutar builder por instancia\n",
        "for fname in instances:\n",
        "    csv_path = data_syn / fname\n",
        "    if not csv_path.exists():\n",
        "        print('[WARN] No existe', csv_path.as_posix())\n",
        "        continue\n",
        "    cmd = [sys.executable, str(builder), '--file', str(csv_path), '--knn', str(knn), '--alpha', str(alpha)]\n",
        "    print('>>', ' '.join(cmd))\n",
        "    res = subprocess.run(cmd, capture_output=True, text=True, cwd=str(repo_root))\n",
        "    if res.returncode != 0:\n",
        "        print('[ERROR]', res.stderr.strip())\n",
        "    else:\n",
        "        print(res.stdout.strip())\n"
      ]
    },
    {
      "cell_type": "code",
      "execution_count": null,
      "metadata": {},
      "outputs": [],
      "source": [
        "# Listado final\n",
        "graphml_files = sorted(graphs_out.glob('*.graphml'))\n",
        "len(graphml_files), [p.name for p in graphml_files]"
      ]
    }
  ],
  "metadata": {
    "kernelspec": {
      "display_name": "base",
      "language": "python",
      "name": "python3"
    },
    "language_info": {
      "name": "python",
      "version": "3.12.7"
    }
  },
  "nbformat": 4,
  "nbformat_minor": 5
}
