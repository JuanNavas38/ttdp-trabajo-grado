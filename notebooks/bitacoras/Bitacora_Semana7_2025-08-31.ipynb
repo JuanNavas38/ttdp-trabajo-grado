{
 "cells": [
  {
   "cell_type": "markdown",
   "metadata": {},
   "source": [
    "# Bitácora — Semana 7 (2025-08-31)\n",
    "\n",
    "Este registro resume el estado actual del repositorio y los avances logrados hoy."
   ]
  },
  {
   "cell_type": "markdown",
   "metadata": {},
   "source": [
    "## Estado Actual\n",
    "- **Código base**: `baseline_greedy.py` (1 ruta) y `src/greedy_k_routes.py` (k rutas); exactos: `exact_pulp.py` (1 ruta) y `src/exact_pulp_k_routes.py` (k rutas).\n",
    "- **Builder de grafos**: `src/graph/graph_builder.py` con CLI; genera GraphML + edgelist en `experiments/graphs/`.\n",
    "- **Notebooks de control**: `notebooks/experiments/00_greedy_control.ipynb`, `01_setup.ipynb`, `02_build_graphs.ipynb`; visualización: `notebooks/eda/Graph_Visualization.ipynb`.\n",
    "- **Datos**: sintéticos y reales en `data/`; resultados del baseline en `experiments/tables/`.\n",
    "- **Documentación**: `README.md` actualizado con guía rápida; repositorio en `main` al día."
   ]
  },
  {
   "cell_type": "markdown",
   "metadata": {},
   "source": [
    "## Avances De Hoy\n",
    "- **Greedy k rutas**: creado `src/greedy_k_routes.py`; verificado con `hptoptw-j11a` (2 rutas, CSV guardado).\n",
    "- **Exacto k rutas**: creado `src/exact_pulp_k_routes.py` (CSV → múltiples rutas), con guardado a `experiments/tables/`.\n",
    "- **Builder de grafos**: implementado y validado; generado grafo `hptoptw-j11a` (11 nodos, 49 aristas) y preview PNG.\n",
    "- **Visualización**: notebook `Graph_Visualization.ipynb` creado y corregido (detección de rutas, manejo sin .graphml).\n",
    "- **Orquestación por notebooks**: añadidos `00_greedy_control`, `01_setup`, `02_build_graphs`; corregidas rutas y `cwd` en subprocess para ejecución robusta.\n",
    "- **README**: añadida guía de uso para nuevos scripts y notebooks; commit y push a `origin/main`."
   ]
  },
  {
   "cell_type": "markdown",
   "metadata": {},
   "source": [
    "## Validaciones\n",
    "- **Greedy k rutas**: ejecutado desde terminal y notebook; CSVs en `experiments/tables/`.\n",
    "- **Grafo j11a**: `G.number_of_nodes() = 11`, `G.number_of_edges() = 49`; previews guardados junto a los `.graphml`."
   ]
  },
  {
   "cell_type": "markdown",
   "metadata": {},
   "source": [
    "## Pendientes Inmediatos\n",
    "- Completar `requirements.txt` (numpy, pandas, networkx, matplotlib, openpyxl, pulp).\n",
    "- Cerrar estabilidad de `00/02` con una celda de verificación de rutas (eco de paths + listado de CSVs).\n",
    "- (Opcional hoy) `05_report_week7.ipynb` para tablas/figuras; preparar inicio de embeddings (Semana 7)."
   ]
  }
 ],
 "metadata": {
  "kernelspec": {
   "display_name": "Python 3",
   "language": "python",
   "name": "python3"
  },
  "language_info": {
   "name": "python",
   "version": "3"
  }
 },
 "nbformat": 4,
 "nbformat_minor": 5
}

